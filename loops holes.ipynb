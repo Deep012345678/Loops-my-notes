{
 "cells": [
  {
   "cell_type": "code",
   "execution_count": 1,
   "id": "c552d131-a522-496c-bdcd-ee91610f1cad",
   "metadata": {},
   "outputs": [
    {
     "name": "stdout",
     "output_type": "stream",
     "text": [
      "9\n",
      "8\n",
      "7\n",
      "6\n",
      "5\n"
     ]
    }
   ],
   "source": [
    "a=5\n",
    "b=10\n",
    "while a<b:\n",
    "    b=b-1\n",
    "    print(b)"
   ]
  },
  {
   "cell_type": "code",
   "execution_count": 9,
   "id": "f86d4cb0-0a5e-4c6a-91dc-137893e5aa40",
   "metadata": {},
   "outputs": [
    {
     "name": "stdout",
     "output_type": "stream",
     "text": [
      "18\n",
      "17\n",
      "16\n"
     ]
    }
   ],
   "source": [
    "a=13\n",
    "b=19\n",
    "while a<b:\n",
    "    b=b-1\n",
    "    if b==15:\n",
    "        break\n",
    "    print(b)"
   ]
  },
  {
   "cell_type": "code",
   "execution_count": 11,
   "id": "948ebcb7-94f2-4d68-aa88-93cda6d178bb",
   "metadata": {},
   "outputs": [
    {
     "name": "stdout",
     "output_type": "stream",
     "text": [
      "11\n",
      "13\n",
      "14\n",
      "16\n"
     ]
    }
   ],
   "source": [
    "a=10\n",
    "b=19\n",
    "while a<b:\n",
    "    a=a+1\n",
    "    if a==12:\n",
    "        continue\n",
    "    elif a==15:\n",
    "        continue\n",
    "    elif a==17:\n",
    "        break\n",
    "    print(a)"
   ]
  },
  {
   "cell_type": "code",
   "execution_count": 12,
   "id": "f2dcb317-256a-408e-834c-aa010c8c1d09",
   "metadata": {},
   "outputs": [
    {
     "name": "stdout",
     "output_type": "stream",
     "text": [
      "S\n",
      "c\n",
      "h\n",
      "o\n",
      "o\n",
      "o\n",
      "l\n",
      " \n",
      "j\n",
      "k\n",
      "l\n",
      "k\n",
      "a\n",
      "l\n",
      "l\n"
     ]
    }
   ],
   "source": [
    "o=\"Schoool jklkall\"\n",
    "for o in \"Schoool jklkall\":\n",
    "    print(o)\n"
   ]
  },
  {
   "cell_type": "code",
   "execution_count": 14,
   "id": "c9a2ddc9-a83b-4646-9b01-4521e155cd7c",
   "metadata": {},
   "outputs": [
    {
     "name": "stdout",
     "output_type": "stream",
     "text": [
      "S\n",
      "c\n",
      "h\n",
      "o\n",
      "o\n",
      "o\n",
      "l\n",
      " \n",
      "j\n"
     ]
    }
   ],
   "source": [
    "o=\"Schoool jklkall\"\n",
    "for o in \"Schoool jklkall\":\n",
    "    if o==\"k\":\n",
    "        break\n",
    "    print(o)"
   ]
  },
  {
   "cell_type": "code",
   "execution_count": 16,
   "id": "aa7fcc0f-5a48-4b56-96c9-dda70d9db94a",
   "metadata": {},
   "outputs": [
    {
     "name": "stdout",
     "output_type": "stream",
     "text": [
      "1\n",
      "6\n",
      "7.8\n",
      "True\n",
      "False\n",
      "Rajat Bhatia\n"
     ]
    }
   ],
   "source": [
    "a=[1,6,7.8,True,False,\"Rajat Bhatia\"]\n",
    "for a in a:\n",
    "    print(a)"
   ]
  },
  {
   "cell_type": "code",
   "execution_count": 22,
   "id": "a6e9a593-9758-44bc-9632-9bf6ea77f5d9",
   "metadata": {},
   "outputs": [
    {
     "name": "stdout",
     "output_type": "stream",
     "text": [
      "1\n",
      "6\n",
      "7.8\n"
     ]
    }
   ],
   "source": [
    "a=[1,6,7.8,\"Deepak\",True,False,\"Rajat Bhatia\"]\n",
    "for a in a:\n",
    "    if a==\"Deepak\":\n",
    "        break\n",
    "    print(a)"
   ]
  },
  {
   "cell_type": "code",
   "execution_count": 23,
   "id": "ac6fe530-c76a-499a-a75d-a9cc12f56621",
   "metadata": {},
   "outputs": [
    {
     "name": "stdout",
     "output_type": "stream",
     "text": [
      "P\n",
      "y\n",
      "s\n",
      "i\n",
      "s\n",
      "w\n",
      "a\n",
      "a\n"
     ]
    }
   ],
   "source": [
    "SKL=\"Physicswallah\"\n",
    "for a in \"Physicswallah\":\n",
    "    if a==\"c\":\n",
    "        continue\n",
    "    elif a==\"l\":\n",
    "        continue\n",
    "    elif a==\"h\":\n",
    "        continue\n",
    "    print(a)"
   ]
  },
  {
   "cell_type": "code",
   "execution_count": 37,
   "id": "a6d1bd27-46cf-4c5e-b9bb-c520847caac9",
   "metadata": {},
   "outputs": [
    {
     "name": "stdout",
     "output_type": "stream",
     "text": [
      "1\n",
      "7.8\n",
      "True\n",
      "False\n",
      "Rajat Bhatia\n"
     ]
    }
   ],
   "source": [
    "a=[1,6,7.8,\"Deepak\",True,False,\"Rajat Bhatia\"]\n",
    "for k in a:\n",
    "     if k==\"Deepak\":\n",
    "         continue\n",
    "     elif k==6:\n",
    "         continue\n",
    "     print (k)"
   ]
  },
  {
   "cell_type": "code",
   "execution_count": 38,
   "id": "7a0368ef-c7dd-4c96-948e-1220df0732be",
   "metadata": {},
   "outputs": [
    {
     "name": "stdout",
     "output_type": "stream",
     "text": [
      "False\n",
      "3\n",
      "3.6\n",
      "Ajaykumar\n",
      "0\n"
     ]
    }
   ],
   "source": [
    "kk=[True,False,3,3.6,\"Ajaykumar\",0]\n",
    "for k in kk:\n",
    "    if k ==True:\n",
    "        continue\n",
    "    print(k)"
   ]
  },
  {
   "cell_type": "code",
   "execution_count": 47,
   "id": "0de24e5e-d011-457d-9ef6-0c025877677a",
   "metadata": {},
   "outputs": [
    {
     "data": {
      "text/plain": [
       "[0, 1, 2, 3, 4, 5, 6, 7, 8, 9]"
      ]
     },
     "execution_count": 47,
     "metadata": {},
     "output_type": "execute_result"
    }
   ],
   "source": [
    "list(list(range(0,10)))"
   ]
  },
  {
   "cell_type": "code",
   "execution_count": 49,
   "id": "ff858153-0c15-44aa-93b2-ff799cae0bfa",
   "metadata": {},
   "outputs": [
    {
     "name": "stdout",
     "output_type": "stream",
     "text": [
      "0\n",
      "1\n",
      "2\n",
      "3\n",
      "4\n",
      "5\n",
      "6\n",
      "7\n",
      "8\n",
      "9\n",
      "10\n"
     ]
    }
   ],
   "source": [
    "for a in list(range(11)):\n",
    "    print(a)"
   ]
  },
  {
   "cell_type": "code",
   "execution_count": 51,
   "id": "cdf0fbd2-bb72-4652-9ab7-95ce0b3454bb",
   "metadata": {},
   "outputs": [
    {
     "name": "stdout",
     "output_type": "stream",
     "text": [
      "0 1 2 3 4 5 6 7 8 9 10 "
     ]
    }
   ],
   "source": [
    "for a in list(range(11)):\n",
    "    print(a,end=\" \")"
   ]
  },
  {
   "cell_type": "code",
   "execution_count": 53,
   "id": "e8296ca9-65a1-42b0-8145-684a1b9e4346",
   "metadata": {},
   "outputs": [
    {
     "name": "stdout",
     "output_type": "stream",
     "text": [
      "012345678910"
     ]
    }
   ],
   "source": [
    "for a in list(range(11)):\n",
    "    print(a,end=\"\")"
   ]
  },
  {
   "cell_type": "code",
   "execution_count": 54,
   "id": "fa1ee7e2-5729-474c-96c5-423f0bbd0876",
   "metadata": {},
   "outputs": [
    {
     "data": {
      "text/plain": [
       "[0, 8, 16, 24, 32, 40, 48, 56, 64, 72, 80, 88, 96]"
      ]
     },
     "execution_count": 54,
     "metadata": {},
     "output_type": "execute_result"
    }
   ],
   "source": [
    "list(range(0,100,8))"
   ]
  },
  {
   "cell_type": "code",
   "execution_count": 56,
   "id": "ed7a8430-1424-4125-9618-32ad979bf14a",
   "metadata": {},
   "outputs": [
    {
     "name": "stdout",
     "output_type": "stream",
     "text": [
      "01624324048566472808896"
     ]
    }
   ],
   "source": [
    "for a in list(range(0,100,8)):\n",
    "    if a==8:\n",
    "        continue\n",
    "    print(a,end=\"\")"
   ]
  },
  {
   "cell_type": "code",
   "execution_count": null,
   "id": "824b0b4c-7ffc-44c8-835a-b599c6014364",
   "metadata": {},
   "outputs": [],
   "source": []
  }
 ],
 "metadata": {
  "kernelspec": {
   "display_name": "Python 3 (ipykernel)",
   "language": "python",
   "name": "python3"
  },
  "language_info": {
   "codemirror_mode": {
    "name": "ipython",
    "version": 3
   },
   "file_extension": ".py",
   "mimetype": "text/x-python",
   "name": "python",
   "nbconvert_exporter": "python",
   "pygments_lexer": "ipython3",
   "version": "3.12.7"
  }
 },
 "nbformat": 4,
 "nbformat_minor": 5
}
